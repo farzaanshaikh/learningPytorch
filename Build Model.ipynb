{
 "cells": [
  {
   "cell_type": "markdown",
   "id": "04658dc7-e255-4c69-8e1f-0a43e2182c85",
   "metadata": {},
   "source": [
    "# Build the Neural Network"
   ]
  },
  {
   "cell_type": "markdown",
   "id": "caf5c325-ce57-48be-b857-249bbadb7759",
   "metadata": {},
   "source": [
    "Neural networks comprise of layers/modules that perform operations on data. The [torch.nn](https://pytorch.org/docs/stable/nn.html) namespace provides all the building blocks you need to build your own neural network. Every module in PyTorch subclasses the [nn.Module](https://pytorch.org/docs/stable/generated/torch.nn.Module.html). A neural network is a module itself that consists of other modules (layers). This nested structure allows for building and managing complex architectures easily."
   ]
  },
  {
   "cell_type": "markdown",
   "id": "8f9d26fe-d449-45c8-966a-c67ddc161c74",
   "metadata": {},
   "source": [
    "In the following sections, we’ll build a neural network to classify images in the FashionMNIST dataset."
   ]
  },
  {
   "cell_type": "code",
   "execution_count": 1,
   "id": "24261db8-6717-484d-9cd6-9453d3bf57cc",
   "metadata": {},
   "outputs": [],
   "source": [
    "import os\n",
    "import torch\n",
    "from torch import nn\n",
    "from torch.utils.data import DataLoader\n",
    "from torchvision import datasets, transforms"
   ]
  },
  {
   "cell_type": "markdown",
   "id": "ee634a6e-680e-415d-bc9d-3b8e1306f323",
   "metadata": {},
   "source": [
    "## Get Device for Training"
   ]
  },
  {
   "cell_type": "markdown",
   "id": "49ade377-5016-43a1-b7a1-c3ad9743ea01",
   "metadata": {},
   "source": [
    "We want to be able to train our model on an [accelerator](https://pytorch.org/docs/stable/torch.html#accelerators) such as CUDA, MPS, MTIA, or XPU. If the current accelerator is available, we will use it. Otherwise, we use the CPU.\n",
    "\n",
    "In our case we will be using MPS for mac devices"
   ]
  },
  {
   "cell_type": "code",
   "execution_count": 2,
   "id": "6ef372dc-163e-4c2a-8e45-9d069cbd4e21",
   "metadata": {},
   "outputs": [
    {
     "name": "stdout",
     "output_type": "stream",
     "text": [
      "Using mps device\n"
     ]
    }
   ],
   "source": [
    "# For CUDA, MTIA, or XPU\n",
    "# device = torch.accelerator.current_accelerator().type if torch.accelerator.is_available() else \"cpu\"\n",
    "# print(f\"Using {device} device\")\n",
    "\n",
    "# For MPS (mac users)\n",
    "device = torch.device(\"mps\") if torch.backends.mps.is_available() else torch.device(\"cpu\")\n",
    "print(f\"Using {device} device\")"
   ]
  },
  {
   "cell_type": "markdown",
   "id": "5b22f351-a23a-4274-b6e4-088246a4722f",
   "metadata": {},
   "source": [
    "## Define the Class"
   ]
  },
  {
   "cell_type": "markdown",
   "id": "a029febe-2209-479b-96a4-974dd7ddcbf7",
   "metadata": {},
   "source": [
    "We define our neural network by subclassing `nn.Module`, and initialize the neural network layers in `__init__`. Every `nn.Module` subclass implements the operations on input data in the `forward` method."
   ]
  },
  {
   "cell_type": "code",
   "execution_count": 3,
   "id": "74f73653-a379-47f2-8c2f-32f72091d3c8",
   "metadata": {},
   "outputs": [],
   "source": [
    "class NeuralNetwork(nn.Module):\n",
    "    def __init__(self):\n",
    "        super().__init__()\n",
    "        self.flatten = nn.Flatten()\n",
    "        self.linear_relu_stack = nn.Sequential(\n",
    "            nn.Linear(28*28, 512),\n",
    "            nn.ReLU(),\n",
    "            nn.Linear(512, 512),\n",
    "            nn.ReLU(),\n",
    "            nn.Linear(512, 10),\n",
    "        )\n",
    "\n",
    "    def forward(self, x):\n",
    "        x = self.flatten(x)\n",
    "        logits = self.linear_relu_stack(x)\n",
    "        return logits"
   ]
  },
  {
   "cell_type": "markdown",
   "id": "b6be37c9-4b36-4ff0-9c07-cbf4ccd3d49a",
   "metadata": {},
   "source": [
    "We create an instance of `NeuralNetwork`, and move it to the `device`, and print its structure."
   ]
  },
  {
   "cell_type": "code",
   "execution_count": 4,
   "id": "73331a00-1c40-4e50-a3bc-7f66754a805d",
   "metadata": {},
   "outputs": [
    {
     "name": "stdout",
     "output_type": "stream",
     "text": [
      "NeuralNetwork(\n",
      "  (flatten): Flatten(start_dim=1, end_dim=-1)\n",
      "  (linear_relu_stack): Sequential(\n",
      "    (0): Linear(in_features=784, out_features=512, bias=True)\n",
      "    (1): ReLU()\n",
      "    (2): Linear(in_features=512, out_features=512, bias=True)\n",
      "    (3): ReLU()\n",
      "    (4): Linear(in_features=512, out_features=10, bias=True)\n",
      "  )\n",
      ")\n"
     ]
    }
   ],
   "source": [
    "model = NeuralNetwork().to(device)\n",
    "print(model)"
   ]
  },
  {
   "cell_type": "markdown",
   "id": "5a4336c7-4d45-435a-931e-a5e91d466f5d",
   "metadata": {},
   "source": [
    "To use the model, we pass it the input data. This executes the model’s `forward`, along with some [background operations](https://github.com/pytorch/pytorch/blob/270111b7b611d174967ed204776985cefca9c144/torch/nn/modules/module.py#L866). Do not call `model.forward()` directly!\n",
    "\n",
    "Calling the model on the input returns a 2-dimensional tensor with $dim=0$ corresponding to each output of 10 raw predicted values for each class, and $dim=1$ corresponding to the individual values of each output. We get the prediction probabilities by passing it through an instance of the `nn.Softmax` module."
   ]
  },
  {
   "cell_type": "code",
   "execution_count": 5,
   "id": "d571ed09-c05c-4836-b6fe-8d74440c5de7",
   "metadata": {},
   "outputs": [
    {
     "name": "stdout",
     "output_type": "stream",
     "text": [
      "Predicted class: tensor([5], device='mps:0')\n"
     ]
    }
   ],
   "source": [
    "X = torch.rand(1, 28, 28, device=device)\n",
    "logits = model(X)\n",
    "pred_probab = nn.Softmax(dim=1)(logits)\n",
    "y_pred = pred_probab.argmax(1)\n",
    "print(f\"Predicted class: {y_pred}\")"
   ]
  },
  {
   "cell_type": "markdown",
   "id": "fbdc88b9-a01f-4a24-a84c-b71e3552dfc5",
   "metadata": {},
   "source": [
    "## Model Layers"
   ]
  },
  {
   "cell_type": "markdown",
   "id": "0cffd54d-d82e-4bc2-a5ec-92360e9dcb0b",
   "metadata": {},
   "source": [
    "Let’s break down the layers in the FashionMNIST model. To illustrate it, we will take a sample minibatch of 3 images of size 28x28 and see what happens to it as we pass it through the network."
   ]
  },
  {
   "cell_type": "code",
   "execution_count": 6,
   "id": "9f76d198-7456-4792-83d6-d091bcb4e513",
   "metadata": {},
   "outputs": [
    {
     "name": "stdout",
     "output_type": "stream",
     "text": [
      "torch.Size([3, 28, 28])\n"
     ]
    }
   ],
   "source": [
    "input_image = torch.rand(3,28,28)\n",
    "print(input_image.size())"
   ]
  },
  {
   "cell_type": "markdown",
   "id": "5cb94bc3-cc1f-48b8-aaa5-5fa14aefaffc",
   "metadata": {},
   "source": [
    "### nn.Flatten"
   ]
  },
  {
   "cell_type": "markdown",
   "id": "95fe95c0-53aa-488e-91ec-9d7d4c0b4205",
   "metadata": {},
   "source": [
    "We initialize the [nn.Flatten](https://pytorch.org/docs/stable/generated/torch.nn.Flatten.html) layer to convert each 2D 28x28 image into a contiguous array of 784 pixel values ( the minibatch dimension (at $dim=0$) is maintained)."
   ]
  },
  {
   "cell_type": "code",
   "execution_count": 7,
   "id": "c54030c7-0eb6-48be-a021-a665b45279b5",
   "metadata": {},
   "outputs": [
    {
     "name": "stdout",
     "output_type": "stream",
     "text": [
      "torch.Size([3, 784])\n"
     ]
    }
   ],
   "source": [
    "flatten = nn.Flatten()\n",
    "flat_image = flatten(input_image)\n",
    "print(flat_image.size())"
   ]
  },
  {
   "cell_type": "markdown",
   "id": "33c82ea1-ea4b-42f6-bcab-585f692d818f",
   "metadata": {},
   "source": [
    "### nn.Linear"
   ]
  },
  {
   "cell_type": "markdown",
   "id": "a7f31a94-7eae-4abe-8243-e26cdfa1a55c",
   "metadata": {},
   "source": [
    "The [linear layer](https://pytorch.org/docs/stable/generated/torch.nn.Linear.html) is a module that applies a linear transformation on the input using its stored weights and biases."
   ]
  },
  {
   "cell_type": "code",
   "execution_count": 8,
   "id": "311dfe95-b711-46e4-a278-c540fa75e4d6",
   "metadata": {},
   "outputs": [
    {
     "name": "stdout",
     "output_type": "stream",
     "text": [
      "torch.Size([3, 20])\n"
     ]
    }
   ],
   "source": [
    "layer1 = nn.Linear(in_features=28*28, out_features=20)\n",
    "hidden1 = layer1(flat_image)\n",
    "print(hidden1.size())"
   ]
  },
  {
   "cell_type": "markdown",
   "id": "cfe7a849-34fc-4f18-bb7b-35d5036e3e0f",
   "metadata": {},
   "source": [
    "### nn.ReLU"
   ]
  },
  {
   "cell_type": "markdown",
   "id": "259c9759-d015-4546-8407-3940d3fffedc",
   "metadata": {},
   "source": [
    "Non-linear activations are what create the complex mappings between the model’s inputs and outputs. They are applied after linear transformations to introduce *nonlinearity*, helping neural networks learn a wide variety of phenomena.\n",
    "\n",
    "In this model, we use [nn.ReLU](https://pytorch.org/docs/stable/generated/torch.nn.ReLU.html) between our linear layers, but there’s other activations to introduce non-linearity in your model."
   ]
  },
  {
   "cell_type": "code",
   "execution_count": 9,
   "id": "9f81ef90-a19c-468b-9915-ccdd599a9749",
   "metadata": {},
   "outputs": [
    {
     "name": "stdout",
     "output_type": "stream",
     "text": [
      "Before ReLU: tensor([[ 0.0135, -0.1710,  0.2461,  0.2728,  0.1305, -0.0779, -0.0852,  0.1469,\n",
      "         -0.2083, -0.0771,  0.7128, -0.0234, -0.0301,  0.3227,  0.3387,  0.2071,\n",
      "          0.0185, -0.3453,  0.3334,  0.1272],\n",
      "        [-0.0240, -0.2285, -0.0847,  0.3645, -0.0950,  0.0324,  0.0324, -0.2920,\n",
      "         -0.0356,  0.6397,  0.5195,  0.4226,  0.2609,  0.2319, -0.0795,  0.1106,\n",
      "          0.0147, -0.0832, -0.1067,  0.3939],\n",
      "        [-0.3151, -0.2061,  0.1119,  0.2216,  0.2136, -0.4187, -0.0462, -0.2734,\n",
      "         -0.0831,  0.2893,  0.6925,  0.1464,  0.2863,  0.2560,  0.1225, -0.1042,\n",
      "          0.0021, -0.0412,  0.1998,  0.3130]], grad_fn=<AddmmBackward0>)\n",
      "\n",
      "\n",
      "After ReLU: tensor([[0.0135, 0.0000, 0.2461, 0.2728, 0.1305, 0.0000, 0.0000, 0.1469, 0.0000,\n",
      "         0.0000, 0.7128, 0.0000, 0.0000, 0.3227, 0.3387, 0.2071, 0.0185, 0.0000,\n",
      "         0.3334, 0.1272],\n",
      "        [0.0000, 0.0000, 0.0000, 0.3645, 0.0000, 0.0324, 0.0324, 0.0000, 0.0000,\n",
      "         0.6397, 0.5195, 0.4226, 0.2609, 0.2319, 0.0000, 0.1106, 0.0147, 0.0000,\n",
      "         0.0000, 0.3939],\n",
      "        [0.0000, 0.0000, 0.1119, 0.2216, 0.2136, 0.0000, 0.0000, 0.0000, 0.0000,\n",
      "         0.2893, 0.6925, 0.1464, 0.2863, 0.2560, 0.1225, 0.0000, 0.0021, 0.0000,\n",
      "         0.1998, 0.3130]], grad_fn=<ReluBackward0>)\n"
     ]
    }
   ],
   "source": [
    "print(f\"Before ReLU: {hidden1}\\n\\n\")\n",
    "hidden1 = nn.ReLU()(hidden1)\n",
    "print(f\"After ReLU: {hidden1}\")"
   ]
  },
  {
   "cell_type": "markdown",
   "id": "dc58b362-924f-490f-94be-b4b6d26f8e15",
   "metadata": {},
   "source": [
    "### nn.Sequential"
   ]
  },
  {
   "cell_type": "markdown",
   "id": "aeda7116-bf06-4ff5-ba7e-1d6c31dcddf5",
   "metadata": {},
   "source": [
    "[nn.Sequential](https://pytorch.org/docs/stable/generated/torch.nn.Sequential.html) is an ordered container of modules. The data is passed through all the modules in the same order as defined. You can use sequential containers to put together a quick network like `seq_modules`."
   ]
  },
  {
   "cell_type": "code",
   "execution_count": 10,
   "id": "6c991dc9-7c2b-4b4a-abbe-902ac8792ee5",
   "metadata": {},
   "outputs": [],
   "source": [
    "seq_modules = nn.Sequential(\n",
    "    flatten,\n",
    "    layer1,\n",
    "    nn.ReLU(),\n",
    "    nn.Linear(20, 10)\n",
    ")\n",
    "input_image = torch.rand(3,28,28)\n",
    "logits = seq_modules(input_image)"
   ]
  },
  {
   "cell_type": "markdown",
   "id": "d466ad17-d6b5-4318-b46b-a9756577a5a7",
   "metadata": {},
   "source": [
    "### nn.Softmax"
   ]
  },
  {
   "cell_type": "markdown",
   "id": "fab6be84-37cb-4a21-95fc-eccabf7b5475",
   "metadata": {},
   "source": [
    "The last linear layer of the neural network returns logits - raw values in [-infty, infty] - which are passed to the [nn.Softmax](https://pytorch.org/docs/stable/generated/torch.nn.Softmax.html) module. The logits are scaled to values [0, 1] representing the model’s predicted probabilities for each class. `dim` parameter indicates the dimension along which the values must sum to 1."
   ]
  },
  {
   "cell_type": "code",
   "execution_count": 11,
   "id": "431153e6-3c65-453e-8950-738dd89513f8",
   "metadata": {},
   "outputs": [],
   "source": [
    "softmax = nn.Softmax(dim=1)\n",
    "pred_probab = softmax(logits)"
   ]
  },
  {
   "cell_type": "markdown",
   "id": "ee91cf35-93fd-4588-9d44-7c0a862f8927",
   "metadata": {},
   "source": [
    "## Model Parameters"
   ]
  },
  {
   "cell_type": "markdown",
   "id": "a0901e45-a7d4-4185-8f71-afdbff6b7fe9",
   "metadata": {},
   "source": [
    "Many layers inside a neural network are parameterized, i.e. have associated weights and biases that are optimized during training. Subclassing `nn.Module` automatically tracks all fields defined inside your model object, and makes all parameters accessible using your model’s `parameters()` or `named_parameters()` methods.\n",
    "\n",
    "In this example, we iterate over each parameter, and print its size and a preview of its values."
   ]
  },
  {
   "cell_type": "code",
   "execution_count": 12,
   "id": "9c9363fe-82a7-47b1-92f5-bcf5d68f2e84",
   "metadata": {},
   "outputs": [
    {
     "name": "stdout",
     "output_type": "stream",
     "text": [
      "Model structure: NeuralNetwork(\n",
      "  (flatten): Flatten(start_dim=1, end_dim=-1)\n",
      "  (linear_relu_stack): Sequential(\n",
      "    (0): Linear(in_features=784, out_features=512, bias=True)\n",
      "    (1): ReLU()\n",
      "    (2): Linear(in_features=512, out_features=512, bias=True)\n",
      "    (3): ReLU()\n",
      "    (4): Linear(in_features=512, out_features=10, bias=True)\n",
      "  )\n",
      ")\n",
      "\n",
      "\n",
      "Layer: linear_relu_stack.0.weight | Size: torch.Size([512, 784]) | Values : tensor([[-0.0187,  0.0123,  0.0053,  ..., -0.0276, -0.0023, -0.0090],\n",
      "        [-0.0131, -0.0258, -0.0096,  ..., -0.0188, -0.0349,  0.0261]],\n",
      "       device='mps:0', grad_fn=<SliceBackward0>) \n",
      "\n",
      "Layer: linear_relu_stack.0.bias | Size: torch.Size([512]) | Values : tensor([-0.0019,  0.0292], device='mps:0', grad_fn=<SliceBackward0>) \n",
      "\n",
      "Layer: linear_relu_stack.2.weight | Size: torch.Size([512, 512]) | Values : tensor([[ 0.0212,  0.0094, -0.0334,  ..., -0.0330,  0.0041,  0.0076],\n",
      "        [ 0.0406,  0.0286, -0.0347,  ..., -0.0056,  0.0291, -0.0168]],\n",
      "       device='mps:0', grad_fn=<SliceBackward0>) \n",
      "\n",
      "Layer: linear_relu_stack.2.bias | Size: torch.Size([512]) | Values : tensor([-0.0335, -0.0069], device='mps:0', grad_fn=<SliceBackward0>) \n",
      "\n",
      "Layer: linear_relu_stack.4.weight | Size: torch.Size([10, 512]) | Values : tensor([[-0.0434,  0.0035,  0.0132,  ...,  0.0139,  0.0292,  0.0121],\n",
      "        [ 0.0015, -0.0353,  0.0211,  ..., -0.0125, -0.0297,  0.0083]],\n",
      "       device='mps:0', grad_fn=<SliceBackward0>) \n",
      "\n",
      "Layer: linear_relu_stack.4.bias | Size: torch.Size([10]) | Values : tensor([ 0.0147, -0.0336], device='mps:0', grad_fn=<SliceBackward0>) \n",
      "\n"
     ]
    }
   ],
   "source": [
    "print(f\"Model structure: {model}\\n\\n\")\n",
    "\n",
    "for name, param in model.named_parameters():\n",
    "    print(f\"Layer: {name} | Size: {param.size()} | Values : {param[:2]} \\n\")"
   ]
  }
 ],
 "metadata": {
  "kernelspec": {
   "display_name": "Python 3 (ipykernel)",
   "language": "python",
   "name": "python3"
  },
  "language_info": {
   "codemirror_mode": {
    "name": "ipython",
    "version": 3
   },
   "file_extension": ".py",
   "mimetype": "text/x-python",
   "name": "python",
   "nbconvert_exporter": "python",
   "pygments_lexer": "ipython3",
   "version": "3.13.1"
  }
 },
 "nbformat": 4,
 "nbformat_minor": 5
}
