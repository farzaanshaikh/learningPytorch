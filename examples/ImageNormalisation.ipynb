{
 "cells": [
  {
   "cell_type": "markdown",
   "id": "320deb72-d910-4489-acb4-f5f1daf1c39d",
   "metadata": {},
   "source": [
    "# Normalisation\n",
    "Normalising an image to [0,1] range for compatibility with neural networks"
   ]
  },
  {
   "cell_type": "code",
   "execution_count": 2,
   "id": "6afc3d42-797a-43f2-9ae8-a850299ba885",
   "metadata": {},
   "outputs": [
    {
     "name": "stdout",
     "output_type": "stream",
     "text": [
      "Data type: torch.float32\n",
      "Min value: 0.0\n",
      "Max value: 1.0\n"
     ]
    }
   ],
   "source": [
    "from torchvision import transforms\n",
    "from PIL import Image\n",
    "\n",
    "# Load an image (e.g., from a file)\n",
    "image = Image.open(\"example.jpg\")  # PIL image in uint8 format [0, 255]\n",
    "\n",
    "# Convert to tensor and normalize to [0, 1]\n",
    "transform = transforms.ToTensor()\n",
    "tensor_image = transform(image)  # Now in float32 format [0, 1]\n",
    "\n",
    "print(f\"Data type: {tensor_image.dtype}\")  # torch.float32\n",
    "print(f\"Min value: {tensor_image.min()}\")  # Should be close to 0.0\n",
    "print(f\"Max value: {tensor_image.max()}\")  # Should be close to 1.0"
   ]
  },
  {
   "cell_type": "code",
   "execution_count": null,
   "id": "96132441-6d58-401d-8c95-cd1c621a9c77",
   "metadata": {},
   "outputs": [],
   "source": []
  }
 ],
 "metadata": {
  "kernelspec": {
   "display_name": "Python 3 (ipykernel)",
   "language": "python",
   "name": "python3"
  },
  "language_info": {
   "codemirror_mode": {
    "name": "ipython",
    "version": 3
   },
   "file_extension": ".py",
   "mimetype": "text/x-python",
   "name": "python",
   "nbconvert_exporter": "python",
   "pygments_lexer": "ipython3",
   "version": "3.13.1"
  }
 },
 "nbformat": 4,
 "nbformat_minor": 5
}
